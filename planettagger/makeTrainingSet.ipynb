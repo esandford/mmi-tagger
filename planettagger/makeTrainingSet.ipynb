{
 "cells": [
  {
   "cell_type": "code",
   "execution_count": 1,
   "metadata": {},
   "outputs": [],
   "source": [
    "from __future__ import (absolute_import, division, print_function,\n",
    "                        unicode_literals)\n",
    "import numpy as np\n",
    "import matplotlib as mpl\n",
    "import matplotlib.pyplot as plt\n",
    "import corner\n",
    "import copy\n",
    "import pickle\n",
    "from astropy.io import ascii\n",
    "\n",
    "%matplotlib inline"
   ]
  },
  {
   "cell_type": "markdown",
   "metadata": {},
   "source": [
    "## Definitions of fields can be found at:\n",
    "\n",
    "## confirmed planets:\n",
    "#### https://exoplanetarchive.ipac.caltech.edu/docs/API_exoplanet_columns.html\n",
    "\n",
    "## KOIs:\n",
    "#### https://exoplanetarchive.ipac.caltech.edu/docs/API_kepcandidate_columns.html"
   ]
  },
  {
   "cell_type": "code",
   "execution_count": 2,
   "metadata": {},
   "outputs": [
    {
     "name": "stderr",
     "output_type": "stream",
     "text": [
      "WARNING: OverflowError converting to IntType in column koi_quarters, reverting to String. [astropy.io.ascii.fastbasic]\n"
     ]
    },
    {
     "name": "stdout",
     "output_type": "stream",
     "text": [
      " kepid   kepoi_name  kepler_name  ...   koi_pmass_err1     koi_pmass_err2  \n",
      "-------- ---------- ------------- ... ------------------ ------------------\n",
      " 1026957  K00958.01            -- ...  5.769464972554899  3.244408578305821\n",
      " 1161345  K00984.01            -- ...  6.326092545818279 3.5574232654922424\n",
      " 1429589  K04923.01            -- ... 1.5735103860765358 0.7378008287493754\n",
      " 1431122  K00994.01            -- ...  2.419108737036141 1.0891220900035181\n",
      " 1432789  K00992.01  Kepler-745 b ...  5.964185807741979  3.027858259246558\n",
      " 1432789  K00992.02            -- ...  2.437079035986733 1.0697247065679856\n",
      " 1717722  K03145.01            -- ... 2.6787928971009194 1.3399128949332408\n",
      " 1717722  K03145.02            -- ... 1.3217080679402717 0.6511151044108447\n",
      " 1718189  K00993.03            -- ... 3.0588005877402042 1.4588377614817154\n",
      " 1718189  K00993.02  Kepler-262 b ... 2.9891737858212397  1.378072373671277\n",
      "     ...        ...           ... ...                ...                ...\n",
      "12645057  K04497.01            -- ... 1.9845066471870876 0.8303707190598724\n",
      "12647577  K04530.01            -- ... 1.8011553190887661 0.7710393922976326\n",
      "12734110  K05978.01            -- ... 3.4170819155884837 1.5982980519344903\n",
      "12734396  K04303.01            -- ...  9.898084680053495  5.455940354225251\n",
      "12735793  K05979.01            -- ...  3.062864569444654 1.4032852522337815\n",
      "12735830  K03311.01 Kepler-1465 b ... 17.276338134584403 3.0036723584464426\n",
      "12737015  K04245.01            -- ... 3.1300492062188034 1.4928184581987818\n",
      "12784167  K03848.01 Kepler-1522 b ...  3.353908150807095 1.4916185309233154\n",
      "12785320  K00298.02            -- ...  1.782935125273354 0.7420510338552917\n",
      "12785320  K00298.01  Kepler-515 b ...   1.85327189089208 0.8136427790478358\n",
      "12834874  K00487.01  Kepler-574 b ...  5.982319637865715  2.891582189104234\n",
      "Length = 3524 rows\n",
      "157\n"
     ]
    }
   ],
   "source": [
    "KOIs = ascii.read(\"../../../KOIs_chen2018_goodSystems.csv\")\n",
    "print(KOIs)\n",
    "print(len(KOIs.colnames))"
   ]
  },
  {
   "cell_type": "code",
   "execution_count": 3,
   "metadata": {},
   "outputs": [
    {
     "name": "stdout",
     "output_type": "stream",
     "text": [
      "3524\n",
      "2662\n"
     ]
    }
   ],
   "source": [
    "print(len(np.array(KOIs['kepid'])))\n",
    "print(len(np.unique(np.array(KOIs['kepid']))))"
   ]
  },
  {
   "cell_type": "code",
   "execution_count": 10,
   "metadata": {},
   "outputs": [
    {
     "data": {
      "image/png": "[encoded data removed]",
      "text/plain": [
       "<matplotlib.figure.Figure at 0xb10451290>"
      ]
     },
     "metadata": {},
     "output_type": "display_data"
    },
    {
     "name": "stdout",
     "output_type": "stream",
     "text": [
      "0.132\n",
      "2.697\n"
     ]
    }
   ],
   "source": [
    "plt.hist(KOIs['koi_smass'],color='b',alpha=0.5)\n",
    "plt.show()\n",
    "\n",
    "print(np.min(KOIs['koi_smass']))\n",
    "print(np.max(KOIs['koi_smass']))"
   ]
  },
  {
   "cell_type": "markdown",
   "metadata": {},
   "source": [
    "## Want these in a format:\n",
    "### each row = 1 planetary system, i.e. a list of \"planets\"\n",
    "### each \"planet\" = an array of ((Teff, logg, [Fe/H], Rp/Rstar, P))\n"
   ]
  },
  {
   "cell_type": "code",
   "execution_count": 4,
   "metadata": {},
   "outputs": [
    {
     "name": "stdout",
     "output_type": "stream",
     "text": [
      "2662\n"
     ]
    },
    {
     "name": "stderr",
     "output_type": "stream",
     "text": [
      "/Users/Emily/anaconda2/lib/python2.7/site-packages/ipykernel/__main__.py:27: UserWarning: Warning: converting a masked element to nan.\n"
     ]
    },
    {
     "name": "stdout",
     "output_type": "stream",
     "text": [
      "star nan!\n",
      "5526717\n",
      "star nan!\n",
      "8223568\n",
      "star nan!\n",
      "10005788\n",
      "planet nan!\n",
      "11336883\n",
      "578\n",
      "<type 'list'>\n",
      "<type 'list'>\n",
      "<type 'list'>\n"
     ]
    },
    {
     "name": "stderr",
     "output_type": "stream",
     "text": [
      "/Users/Emily/anaconda2/lib/python2.7/site-packages/ipykernel/__main__.py:37: UserWarning: Warning: converting a masked element to nan.\n"
     ]
    }
   ],
   "source": [
    "systems = []\n",
    "\n",
    "idxs = np.arange(len(KOIs['kepid']))\n",
    "kepids = np.array(KOIs['kepid'])\n",
    "unique_kepid = np.unique(np.array(KOIs['kepid']))\n",
    "print(len(unique_kepid))\n",
    "\n",
    "for ID in unique_kepid:\n",
    "    goodSystem = True\n",
    "    system = []\n",
    "    thisSystem_mask = (kepids == ID)\n",
    "    thisSystem_idxs = idxs[thisSystem_mask]\n",
    "    \n",
    "    if len(thisSystem_idxs) > 1:\n",
    "        kepNames = KOIs['kepoi_name'][thisSystem_idxs]\n",
    "        Ps = KOIs['koi_period'][thisSystem_idxs]\n",
    "        #sort KOIs from inner to outer\n",
    "        sort = np.argsort(Ps)\n",
    "        thisSystem_idxs = thisSystem_idxs[sort]\n",
    "\n",
    "        count = KOIs['koi_count'][thisSystem_idxs[0]]\n",
    "\n",
    "        Teff = KOIs['koi_steff'][thisSystem_idxs[0]]\n",
    "        logg = KOIs['koi_slogg'][thisSystem_idxs[0]]\n",
    "        met = KOIs['koi_smet'][thisSystem_idxs[0]]\n",
    "\n",
    "        if np.any(np.isnan(np.array((Teff,logg,met)))):\n",
    "            print(\"star nan!\")\n",
    "            print(ID)\n",
    "            pass\n",
    "\n",
    "        else:\n",
    "            for j in range(1,count+1):\n",
    "                planet = [Teff, logg, met]\n",
    "                planet.append(KOIs['koi_ror'][thisSystem_idxs[j-1]])\n",
    "                planet.append(KOIs['koi_period'][thisSystem_idxs[j-1]])\n",
    "                if np.any(np.isnan(np.array((planet)))):\n",
    "                    print(\"planet nan!\")\n",
    "                    print(ID)\n",
    "                    goodSystem = False\n",
    "                    pass\n",
    "                else:\n",
    "                    system.append((planet))\n",
    "\n",
    "            if goodSystem is True:\n",
    "                systems.append(system)\n",
    "\n",
    "print(len(systems))\n",
    "\n",
    "print(type(systems))\n",
    "print(type(systems[0]))\n",
    "print(type(systems[0][0]))\n",
    "\n",
    "with open(\"planet-mmi-trainingset_noSingles.txt\", \"wb\") as picklefile:\n",
    "    pickle.dump(systems, picklefile)"
   ]
  },
  {
   "cell_type": "code",
   "execution_count": 5,
   "metadata": {},
   "outputs": [
    {
     "name": "stdout",
     "output_type": "stream",
     "text": [
      "578\n",
      "<type 'list'>\n",
      "<type 'list'>\n",
      "<type 'list'>\n",
      "[[[5782.0, 4.28, 0.16, 0.010812, 4.57834367], [5782.0, 4.28, 0.16, 0.018094, 9.93146307]], [[4805.0, 4.633, -0.06, 0.014052, 0.977311489], [4805.0, 4.633, -0.06, 0.022053, 4.53702121]]]\n",
      "[[[5782.0, 4.28, 0.16, 0.010812, 4.57834367], [5782.0, 4.28, 0.16, 0.018094, 9.93146307]], [[4805.0, 4.633, -0.06, 0.014052, 0.977311489], [4805.0, 4.633, -0.06, 0.022053, 4.53702121]]]\n"
     ]
    }
   ],
   "source": [
    "with open(\"planet-mmi-trainingset_noSingles.txt\", \"rb\") as picklefile:\n",
    "    systest = pickle.load(picklefile)\n",
    "\n",
    "print(len(systest))\n",
    "print(type(systest))\n",
    "print(type(systest[0]))\n",
    "print(type(systest[0][0]))\n",
    "print(systest[0:2])\n",
    "print(systems[0:2])\n"
   ]
  },
  {
   "cell_type": "code",
   "execution_count": null,
   "metadata": {
    "collapsed": true
   },
   "outputs": [],
   "source": []
  }
 ],
 "metadata": {
  "kernelspec": {
   "display_name": "Python 2",
   "language": "python",
   "name": "python2"
  },
  "language_info": {
   "codemirror_mode": {
    "name": "ipython",
    "version": 3
   },
   "file_extension": ".py",
   "mimetype": "text/x-python",
   "name": "python",
   "nbconvert_exporter": "python",
   "pygments_lexer": "ipython3",
   "version": "3.7.3"
  }
 },
 "nbformat": 4,
 "nbformat_minor": 2
}
