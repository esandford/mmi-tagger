{
 "cells": [
  {
   "cell_type": "code",
   "execution_count": 1,
   "metadata": {},
   "outputs": [],
   "source": [
    "import numpy as np\n",
    "import matplotlib as mpl\n",
    "import matplotlib.pyplot as plt\n",
    "import corner\n",
    "import copy\n",
    "import pickle\n",
    "from astropy.io import ascii\n",
    "\n",
    "%matplotlib inline"
   ]
  },
  {
   "cell_type": "markdown",
   "metadata": {},
   "source": [
    "## Definitions of fields can be found at:\n",
    "### confirmed planets:\n",
    "https://exoplanetarchive.ipac.caltech.edu/docs/API_exoplanet_columns.html\n",
    "### KOIs:\n",
    "https://exoplanetarchive.ipac.caltech.edu/docs/API_kepcandidate_columns.html"
   ]
  },
  {
   "cell_type": "code",
   "execution_count": 2,
   "metadata": {},
   "outputs": [
    {
     "name": "stdout",
     "output_type": "stream",
     "text": [
      " kepid   kepoi_name  kepler_name  ...   koi_pmass_err1     koi_pmass_err2  \n",
      "-------- ---------- ------------- ... ------------------ ------------------\n",
      " 1026957  K00958.01            -- ...  5.769464972554899  3.244408578305821\n",
      " 1161345  K00984.01            -- ...  6.326092545818279 3.5574232654922424\n",
      " 1429589  K04923.01            -- ... 1.5735103860765358 0.7378008287493754\n",
      " 1431122  K00994.01            -- ...  2.419108737036141 1.0891220900035181\n",
      " 1432789  K00992.01  Kepler-745 b ...  5.964185807741979  3.027858259246558\n",
      " 1432789  K00992.02            -- ...  2.437079035986733 1.0697247065679856\n",
      " 1717722  K03145.01            -- ... 2.6787928971009194 1.3399128949332408\n",
      " 1717722  K03145.02            -- ... 1.3217080679402717 0.6511151044108447\n",
      " 1718189  K00993.03            -- ... 3.0588005877402042 1.4588377614817154\n",
      " 1718189  K00993.02  Kepler-262 b ... 2.9891737858212397  1.378072373671277\n",
      "     ...        ...           ... ...                ...                ...\n",
      "12645057  K04497.01            -- ... 1.9845066471870876 0.8303707190598724\n",
      "12647577  K04530.01            -- ... 1.8011553190887661 0.7710393922976326\n",
      "12734110  K05978.01            -- ... 3.4170819155884837 1.5982980519344903\n",
      "12734396  K04303.01            -- ...  9.898084680053495  5.455940354225251\n",
      "12735793  K05979.01            -- ...  3.062864569444654 1.4032852522337815\n",
      "12735830  K03311.01 Kepler-1465 b ... 17.276338134584403 3.0036723584464426\n",
      "12737015  K04245.01            -- ... 3.1300492062188034 1.4928184581987818\n",
      "12784167  K03848.01 Kepler-1522 b ...  3.353908150807095 1.4916185309233154\n",
      "12785320  K00298.02            -- ...  1.782935125273354 0.7420510338552917\n",
      "12785320  K00298.01  Kepler-515 b ...   1.85327189089208 0.8136427790478358\n",
      "12834874  K00487.01  Kepler-574 b ...  5.982319637865715  2.891582189104234\n",
      "Length = 3512 rows\n",
      "157\n",
      "['kepid', 'kepoi_name', 'kepler_name', 'ra', 'ra_err', 'ra_str', 'dec', 'dec_err', 'dec_str', 'koi_gmag', 'koi_gmag_err', 'koi_rmag', 'koi_rmag_err', 'koi_imag', 'koi_imag_err', 'koi_zmag', 'koi_zmag_err', 'koi_jmag', 'koi_jmag_err', 'koi_hmag', 'koi_hmag_err', 'koi_kmag', 'koi_kmag_err', 'koi_kepmag', 'koi_kepmag_err', 'koi_delivname', 'koi_vet_stat', 'koi_quarters', 'koi_disposition', 'koi_pdisposition', 'koi_count', 'koi_num_transits', 'koi_max_sngle_ev', 'koi_max_mult_ev', 'koi_bin_oedp_sig', 'koi_limbdark_mod', 'koi_ldm_coeff4', 'koi_ldm_coeff3', 'koi_ldm_coeff2', 'koi_ldm_coeff1', 'koi_trans_mod', 'koi_model_snr', 'koi_model_dof', 'koi_model_chisq', 'koi_time0bk', 'koi_time0bk_err1', 'koi_time0bk_err2', 'koi_eccen', 'koi_eccen_err1', 'koi_eccen_err2', 'koi_longp', 'koi_longp_err1', 'koi_longp_err2', 'koi_prad', 'koi_prad_err1', 'koi_prad_err2', 'koi_sma', 'koi_sma_err1', 'koi_sma_err2', 'koi_impact', 'koi_impact_err1', 'koi_impact_err2', 'koi_duration', 'koi_duration_err1', 'koi_duration_err2', 'koi_ingress', 'koi_ingress_err1', 'koi_ingress_err2', 'koi_depth', 'koi_depth_err1', 'koi_depth_err2', 'koi_period', 'koi_period_err1', 'koi_period_err2', 'koi_ror', 'koi_ror_err1', 'koi_ror_err2', 'koi_dor', 'koi_dor_err1', 'koi_dor_err2', 'koi_incl', 'koi_incl_err1', 'koi_incl_err2', 'koi_teq', 'koi_teq_err1', 'koi_teq_err2', 'koi_steff', 'koi_steff_err1', 'koi_steff_err2', 'koi_slogg', 'koi_slogg_err1', 'koi_slogg_err2', 'koi_smet', 'koi_smet_err1', 'koi_smet_err2', 'koi_srad', 'koi_srad_err1', 'koi_srad_err2', 'koi_smass', 'koi_smass_err1', 'koi_smass_err2', 'koi_sage', 'koi_sage_err1', 'koi_sage_err2', 'koi_sparprov', 'koi_fwm_stat_sig', 'koi_fwm_sra', 'koi_fwm_sra_err', 'koi_fwm_sdec', 'koi_fwm_sdec_err', 'koi_fwm_srao', 'koi_fwm_srao_err', 'koi_fwm_sdeco', 'koi_fwm_sdeco_err', 'koi_fwm_prao', 'koi_fwm_prao_err', 'koi_fwm_pdeco', 'koi_fwm_pdeco_err', 'koi_dicco_mra', 'koi_dicco_mra_err', 'koi_dicco_mdec', 'koi_dicco_mdec_err', 'koi_dicco_msky', 'koi_dicco_msky_err', 'koi_dikco_mra', 'koi_dikco_mra_err', 'koi_dikco_mdec', 'koi_dikco_mdec_err', 'koi_dikco_msky', 'koi_dikco_msky_err', 'koi_comment', 'koi_vet_date', 'koi_tce_plnt_num', 'koi_tce_delivname', 'koi_datalink_dvs', 'koi_disp_prov', 'koi_parm_prov', 'koi_time0', 'koi_time0_err1', 'koi_time0_err2', 'koi_datalink_dvr', 'koi_fpflag_nt', 'koi_fpflag_ss', 'koi_fpflag_co', 'koi_fpflag_ec', 'koi_insol', 'koi_insol_err1', 'koi_insol_err2', 'koi_srho', 'koi_srho_err1', 'koi_srho_err2', 'koi_fittype', 'koi_score', 'sky_coord', 'koi_pmass', 'koi_pmass_err1', 'koi_pmass_err2']\n"
     ]
    },
    {
     "name": "stderr",
     "output_type": "stream",
     "text": [
      "WARNING: OverflowError converting to IntType in column koi_quarters, reverting to String. [astropy.io.ascii.fastbasic]\n"
     ]
    }
   ],
   "source": [
    "KOIs = ascii.read(\"../../../../KOIs_chen2018_goodSystems.csv\")\n",
    "print(KOIs)\n",
    "print(len(KOIs.colnames))\n",
    "print(KOIs.colnames)"
   ]
  },
  {
   "cell_type": "code",
   "execution_count": 3,
   "metadata": {},
   "outputs": [
    {
     "name": "stdout",
     "output_type": "stream",
     "text": [
      "3512\n",
      "2656\n",
      "3512\n",
      "3512\n",
      "3512\n"
     ]
    }
   ],
   "source": [
    "print(len(np.array(KOIs['kepid'])))\n",
    "print(len(np.unique(np.array(KOIs['kepid']))))\n",
    "\n",
    "print(len(np.array(KOIs['koi_prad'])[~np.isnan(KOIs[\"koi_prad\"])]))\n",
    "print(len(np.array(KOIs['koi_ror'])[~np.isnan(KOIs[\"koi_ror\"])]))\n",
    "print(len(np.array(KOIs['koi_insol'])[~np.isnan(KOIs[\"koi_insol\"])]))"
   ]
  },
  {
   "cell_type": "code",
   "execution_count": 4,
   "metadata": {},
   "outputs": [
    {
     "data": {
      "image/png": "[encoded data removed]",
      "text/plain": [
       "<Figure size 432x288 with 1 Axes>"
      ]
     },
     "metadata": {
      "needs_background": "light"
     },
     "output_type": "display_data"
    },
    {
     "data": {
      "image/png": "[encoded data removed]",
      "text/plain": [
       "<Figure size 432x288 with 1 Axes>"
      ]
     },
     "metadata": {
      "needs_background": "light"
     },
     "output_type": "display_data"
    },
    {
     "data": {
      "image/png": "[encoded data removed]",
      "text/plain": [
       "<Figure size 432x288 with 1 Axes>"
      ]
     },
     "metadata": {
      "needs_background": "light"
     },
     "output_type": "display_data"
    },
    {
     "data": {
      "image/png": "[encoded data removed]",
      "text/plain": [
       "<Figure size 432x288 with 1 Axes>"
      ]
     },
     "metadata": {
      "needs_background": "light"
     },
     "output_type": "display_data"
    },
    {
     "name": "stdout",
     "output_type": "stream",
     "text": [
      "0.132\n",
      "2.697\n"
     ]
    }
   ],
   "source": [
    "plt.hist(np.log10(KOIs['koi_prad']),bins=20,color='b',alpha=0.5)\n",
    "plt.show()\n",
    "\n",
    "\n",
    "plt.hist(np.log10(KOIs['koi_period']),bins=20,color='b',alpha=0.5)\n",
    "plt.show()\n",
    "\n",
    "\n",
    "plt.hist(KOIs['koi_steff'],bins=20,color='b',alpha=0.5)\n",
    "plt.show()\n",
    "\n",
    "\n",
    "plt.hist(KOIs['koi_slogg'],bins=20,color='b',alpha=0.5)\n",
    "plt.show()\n",
    "\n",
    "\n",
    "print(np.min(KOIs['koi_smass']))\n",
    "print(np.max(KOIs['koi_smass']))"
   ]
  },
  {
   "cell_type": "markdown",
   "metadata": {},
   "source": [
    "## Want these in a format:\n",
    "### each row = 1 planetary system, i.e. a list of \"planets\"\n",
    "### each \"planet\" = an array of [Rp/Rstar, P, Teff, logg, Fe/H]"
   ]
  },
  {
   "cell_type": "code",
   "execution_count": 5,
   "metadata": {},
   "outputs": [
    {
     "name": "stdout",
     "output_type": "stream",
     "text": [
      "2656\n",
      "means:\n",
      "0.315288527240129 1.1956284811335791 5532.606492027335 4.396738325740319\n",
      "sigmas:\n",
      "0.2567266294591877 0.6511098008677794 660.621410145989 0.2503844154525694\n",
      "2656\n",
      "<class 'list'>\n",
      "<class 'list'>\n",
      "<class 'list'>\n"
     ]
    }
   ],
   "source": [
    "systems = []\n",
    "\n",
    "idxs = np.arange(len(KOIs['kepid']))\n",
    "kepids = np.array(KOIs['kepid'])\n",
    "unique_kepid = np.unique(np.array(KOIs['kepid']))\n",
    "print(len(unique_kepid))\n",
    "\n",
    "# Impose feature scaling!\n",
    "Teff_mean = np.mean(KOIs['koi_steff'])\n",
    "logg_mean = np.mean(KOIs['koi_slogg'])\n",
    "#met_mean = np.mean(KOIs['koi_smet'])\n",
    "\n",
    "rad_mean = np.mean(np.log10(KOIs['koi_prad']))\n",
    "#rad_mean = np.mean(KOIs['koi_prad'])\n",
    "#rad_mean = np.mean(KOIs['koi_ror'])\n",
    "\n",
    "period_mean = np.mean(np.log10(KOIs['koi_period']))\n",
    "#period_mean = np.mean(KOIs['koi_period'])\n",
    "\n",
    "#insol_mean = np.mean(KOIs['koi_insol'])\n",
    "\n",
    "Teff_sigma = np.std(KOIs['koi_steff'])\n",
    "logg_sigma = np.std(KOIs['koi_slogg'])\n",
    "#met_sigma = np.std(KOIs['koi_smet'])\n",
    "rad_sigma = np.std(np.log10(KOIs['koi_prad']))\n",
    "#rad_sigma = np.std(KOIs['koi_prad'])\n",
    "#rad_sigma = np.std(KOIs['koi_ror'])\n",
    "\n",
    "period_sigma = np.std(np.log10(KOIs['koi_period']))\n",
    "#period_sigma = np.std(KOIs['koi_period'])\n",
    "\n",
    "#insol_sigma = np.std(KOIs['koi_insol'])\n",
    "\n",
    "\n",
    "print(\"means:\")\n",
    "#print(rad_mean,period_mean,insol_mean,Teff_mean,logg_mean,met_mean)\n",
    "print(rad_mean,period_mean,Teff_mean,logg_mean)\n",
    "print(\"sigmas:\")\n",
    "#print(rad_sigma,period_sigma,insol_sigma,Teff_sigma,logg_sigma,met_sigma)\n",
    "print(rad_sigma,period_sigma,Teff_sigma,logg_sigma)\n",
    "\n",
    "for ID in unique_kepid:\n",
    "    goodSystem = True\n",
    "    system = []\n",
    "    thisSystem_mask = (kepids == ID)\n",
    "    thisSystem_idxs = idxs[thisSystem_mask]\n",
    "    \n",
    "    #singles only\n",
    "    #if len(thisSystem_idxs) > 1:\n",
    "    #all systems\n",
    "    if True:\n",
    "        kepNames = KOIs['kepoi_name'][thisSystem_idxs]\n",
    "        Ps = KOIs['koi_period'][thisSystem_idxs]\n",
    "        #sort KOIs from inner to outer\n",
    "        sort = np.argsort(Ps)\n",
    "        thisSystem_idxs = thisSystem_idxs[sort]\n",
    "\n",
    "        count = KOIs['koi_count'][thisSystem_idxs[0]]\n",
    "\n",
    "        Teff = KOIs['koi_steff'][thisSystem_idxs[0]]\n",
    "        logg = KOIs['koi_slogg'][thisSystem_idxs[0]]\n",
    "        met = KOIs['koi_smet'][thisSystem_idxs[0]]\n",
    "\n",
    "        if np.any(np.isnan(np.array((Teff,logg,met)))):\n",
    "            print(np.array((Teff,logg,met)))\n",
    "            print(\"star nan!\")\n",
    "            print(ID)\n",
    "            pass\n",
    "\n",
    "        else:\n",
    "            for j in range(1,count+1):\n",
    "                planet = []\n",
    "                planet.append( (np.log10(KOIs['koi_prad'][thisSystem_idxs[j-1]]) - rad_mean)/rad_sigma )\n",
    "                planet.append( (np.log10(KOIs['koi_period'][thisSystem_idxs[j-1]]) - period_mean)/period_sigma )\n",
    "                #planet.append( ((KOIs['koi_insol'][thisSystem_idxs[j-1]]) - insol_mean)/insol_sigma )\n",
    "                \n",
    "                planet.append( (Teff-Teff_mean)/Teff_sigma )\n",
    "                planet.append( (logg-logg_mean)/logg_sigma )\n",
    "                #planet.append( (met-met_mean)/met_sigma )\n",
    "                if np.any(np.isnan(np.array((planet)))):\n",
    "                    print(planet)\n",
    "                    print(\"planet nan!\")\n",
    "                    print(ID)\n",
    "                    goodSystem = False\n",
    "                    pass\n",
    "                else:\n",
    "                    system.append((planet))\n",
    "\n",
    "            if goodSystem is True:\n",
    "                systems.append(system)\n",
    "\n",
    "print(len(systems))\n",
    "\n",
    "print(type(systems))\n",
    "print(type(systems[0]))\n",
    "print(type(systems[0][0]))\n",
    "\n",
    "with open(\"realKOIs_allFeatures.txt\", \"wb\") as picklefile:\n",
    "    pickle.dump(systems, picklefile)"
   ]
  },
  {
   "cell_type": "code",
   "execution_count": 6,
   "metadata": {},
   "outputs": [
    {
     "name": "stdout",
     "output_type": "stream",
     "text": [
      "2656\n",
      "<class 'list'>\n",
      "<class 'list'>\n",
      "<class 'list'>\n",
      "[[[0.342122646648355, 0.21817567069433336, -1.0196558598948167, 0.8597247311522795]], [[0.17351902758821786, -0.8653344219876473, -0.3581574687006401, 0.7159458145015346]]]\n",
      "[[[0.342122646648355, 0.21817567069433336, -1.0196558598948167, 0.8597247311522795]], [[0.17351902758821786, -0.8653344219876473, -0.3581574687006401, 0.7159458145015346]]]\n"
     ]
    }
   ],
   "source": [
    "with open(\"realKOIs_allFeatures.txt\", \"rb\") as picklefile:\n",
    "    systest = pickle.load(picklefile)\n",
    "\n",
    "print(len(systest))\n",
    "print(type(systest))\n",
    "print(type(systest[0]))\n",
    "print(type(systest[0][0]))\n",
    "print(systest[0:2])\n",
    "print(systems[0:2])"
   ]
  },
  {
   "cell_type": "markdown",
   "metadata": {},
   "source": [
    "# Divide into 70% training, 30% test data"
   ]
  },
  {
   "cell_type": "code",
   "execution_count": 7,
   "metadata": {},
   "outputs": [
    {
     "name": "stdout",
     "output_type": "stream",
     "text": [
      "2656\n",
      "1859\n",
      "797\n",
      "means:\n",
      "0.315288527240129 1.1956284811335791 5532.606492027335 4.396738325740319\n",
      "sigmas:\n",
      "0.2567266294591877 0.6511098008677794 660.621410145989 0.2503844154525694\n",
      "1859\n",
      "797\n"
     ]
    }
   ],
   "source": [
    "systems = []\n",
    "\n",
    "idxs = np.arange(len(KOIs['kepid']))\n",
    "kepids = np.array(KOIs['kepid'])\n",
    "unique_kepid = np.unique(np.array(KOIs['kepid']))\n",
    "print(len(unique_kepid))\n",
    "\n",
    "np.random.seed(42)\n",
    "np.random.shuffle(unique_kepid)\n",
    "\n",
    "unique_kepid_70 = unique_kepid[:int(0.7*len(unique_kepid))]\n",
    "unique_kepid_30 = unique_kepid[int(0.7*len(unique_kepid)):]\n",
    "\n",
    "print(len(unique_kepid_70))\n",
    "print(len(unique_kepid_30))\n",
    "\n",
    "\n",
    "print(\"means:\")\n",
    "#print(rad_mean,period_mean,insol_mean,Teff_mean,logg_mean,met_mean)\n",
    "print(rad_mean,period_mean,Teff_mean,logg_mean)\n",
    "print(\"sigmas:\")\n",
    "#print(rad_sigma,period_sigma,insol_sigma,Teff_sigma,logg_sigma,met_sigma)\n",
    "print(rad_sigma,period_sigma,Teff_sigma,logg_sigma)\n",
    "\n",
    "for ID in unique_kepid_70:\n",
    "    goodSystem = True\n",
    "    system = []\n",
    "    thisSystem_mask = (kepids == ID)\n",
    "    thisSystem_idxs = idxs[thisSystem_mask]\n",
    "    \n",
    "    #singles only\n",
    "    #if len(thisSystem_idxs) > 1:\n",
    "    #all systems\n",
    "    if True:\n",
    "        kepNames = KOIs['kepoi_name'][thisSystem_idxs]\n",
    "        Ps = KOIs['koi_period'][thisSystem_idxs]\n",
    "        #sort KOIs from inner to outer\n",
    "        sort = np.argsort(Ps)\n",
    "        thisSystem_idxs = thisSystem_idxs[sort]\n",
    "\n",
    "        count = KOIs['koi_count'][thisSystem_idxs[0]]\n",
    "\n",
    "        Teff = KOIs['koi_steff'][thisSystem_idxs[0]]\n",
    "        logg = KOIs['koi_slogg'][thisSystem_idxs[0]]\n",
    "        met = KOIs['koi_smet'][thisSystem_idxs[0]]\n",
    "\n",
    "        if np.any(np.isnan(np.array((Teff,logg,met)))):\n",
    "            print(np.array((Teff,logg,met)))\n",
    "            print(\"star nan!\")\n",
    "            print(ID)\n",
    "            pass\n",
    "\n",
    "        else:\n",
    "            for j in range(1,count+1):\n",
    "                planet = []\n",
    "                planet.append( (np.log10(KOIs['koi_prad'][thisSystem_idxs[j-1]]) - rad_mean)/rad_sigma )\n",
    "                planet.append( (np.log10(KOIs['koi_period'][thisSystem_idxs[j-1]]) - period_mean)/period_sigma )\n",
    "                #planet.append( ((KOIs['koi_insol'][thisSystem_idxs[j-1]]) - insol_mean)/insol_sigma )\n",
    "                \n",
    "                planet.append( (Teff-Teff_mean)/Teff_sigma )\n",
    "                planet.append( (logg-logg_mean)/logg_sigma )\n",
    "                #planet.append( (met-met_mean)/met_sigma )\n",
    "                if np.any(np.isnan(np.array((planet)))):\n",
    "                    print(planet)\n",
    "                    print(\"planet nan!\")\n",
    "                    print(ID)\n",
    "                    goodSystem = False\n",
    "                    pass\n",
    "                else:\n",
    "                    system.append((planet))\n",
    "\n",
    "            if goodSystem is True:\n",
    "                systems.append(system)\n",
    "\n",
    "print(len(systems))\n",
    "with open(\"realKOIs_allFeatures_70percent.txt\", \"wb\") as picklefile:\n",
    "    pickle.dump(systems, picklefile)\n",
    "    \n",
    "systems = []   \n",
    "for ID in unique_kepid_30:\n",
    "    goodSystem = True\n",
    "    system = []\n",
    "    thisSystem_mask = (kepids == ID)\n",
    "    thisSystem_idxs = idxs[thisSystem_mask]\n",
    "    \n",
    "    #singles only\n",
    "    #if len(thisSystem_idxs) > 1:\n",
    "    #all systems\n",
    "    if True:\n",
    "        kepNames = KOIs['kepoi_name'][thisSystem_idxs]\n",
    "        Ps = KOIs['koi_period'][thisSystem_idxs]\n",
    "        #sort KOIs from inner to outer\n",
    "        sort = np.argsort(Ps)\n",
    "        thisSystem_idxs = thisSystem_idxs[sort]\n",
    "\n",
    "        count = KOIs['koi_count'][thisSystem_idxs[0]]\n",
    "\n",
    "        Teff = KOIs['koi_steff'][thisSystem_idxs[0]]\n",
    "        logg = KOIs['koi_slogg'][thisSystem_idxs[0]]\n",
    "        met = KOIs['koi_smet'][thisSystem_idxs[0]]\n",
    "\n",
    "        if np.any(np.isnan(np.array((Teff,logg,met)))):\n",
    "            print(np.array((Teff,logg,met)))\n",
    "            print(\"star nan!\")\n",
    "            print(ID)\n",
    "            pass\n",
    "\n",
    "        else:\n",
    "            for j in range(1,count+1):\n",
    "                planet = []\n",
    "                planet.append( (np.log10(KOIs['koi_prad'][thisSystem_idxs[j-1]]) - rad_mean)/rad_sigma )\n",
    "                planet.append( (np.log10(KOIs['koi_period'][thisSystem_idxs[j-1]]) - period_mean)/period_sigma )\n",
    "                #planet.append( ((KOIs['koi_insol'][thisSystem_idxs[j-1]]) - insol_mean)/insol_sigma )\n",
    "                \n",
    "                planet.append( (Teff-Teff_mean)/Teff_sigma )\n",
    "                planet.append( (logg-logg_mean)/logg_sigma )\n",
    "                #planet.append( (met-met_mean)/met_sigma )\n",
    "                if np.any(np.isnan(np.array((planet)))):\n",
    "                    print(planet)\n",
    "                    print(\"planet nan!\")\n",
    "                    print(ID)\n",
    "                    goodSystem = False\n",
    "                    pass\n",
    "                else:\n",
    "                    system.append((planet))\n",
    "\n",
    "            if goodSystem is True:\n",
    "                systems.append(system)\n",
    "print(len(systems))\n",
    "with open(\"realKOIs_allFeatures_30percent.txt\", \"wb\") as picklefile:\n",
    "    pickle.dump(systems, picklefile)"
   ]
  },
  {
   "cell_type": "markdown",
   "metadata": {},
   "source": [
    "## Bootstrapped versions of training set"
   ]
  },
  {
   "cell_type": "code",
   "execution_count": 8,
   "metadata": {},
   "outputs": [
    {
     "data": {
      "text/plain": [
       "'\\nidxs = np.arange(len(KOIs[\\'kepid\\']))\\nkepids = np.array(KOIs[\\'kepid\\'])\\nunique_kepid = np.unique(np.array(KOIs[\\'kepid\\']))\\nprint(len(unique_kepid))\\n\\nnp.random.seed(42)\\nnp.random.shuffle(unique_kepid)\\n\\nunique_kepid_70 = unique_kepid[:int(0.7*len(unique_kepid))]\\n#unique_kepid_30 = unique_kepid[int(0.7*len(unique_kepid)):]\\n\\nprint(len(unique_kepid_70))\\n\\n\\nprint(\"means:\")\\n#print(rad_mean,period_mean,insol_mean,Teff_mean,logg_mean,met_mean)\\nprint(rad_mean,period_mean,Teff_mean,logg_mean)\\nprint(\"sigmas:\")\\n#print(rad_sigma,period_sigma,insol_sigma,Teff_sigma,logg_sigma,met_sigma)\\nprint(rad_sigma,period_sigma,Teff_sigma,logg_sigma)\\n\\nfor b in range(100):\\n    systems = []\\n\\n    bootstrapped_kepid_70 = np.random.choice(unique_kepid_70,size=len(unique_kepid_70),replace=True)\\n\\n    for ID in bootstrapped_kepid_70:\\n        goodSystem = True\\n        system = []\\n        thisSystem_mask = (kepids == ID)\\n        thisSystem_idxs = idxs[thisSystem_mask]\\n\\n        #singles only\\n        #if len(thisSystem_idxs) > 1:\\n        #all systems\\n        if True:\\n            kepNames = KOIs[\\'kepoi_name\\'][thisSystem_idxs]\\n            Ps = KOIs[\\'koi_period\\'][thisSystem_idxs]\\n            #sort KOIs from inner to outer\\n            sort = np.argsort(Ps)\\n            thisSystem_idxs = thisSystem_idxs[sort]\\n\\n            count = KOIs[\\'koi_count\\'][thisSystem_idxs[0]]\\n\\n            Teff = KOIs[\\'koi_steff\\'][thisSystem_idxs[0]]\\n            logg = KOIs[\\'koi_slogg\\'][thisSystem_idxs[0]]\\n            met = KOIs[\\'koi_smet\\'][thisSystem_idxs[0]]\\n\\n            if np.any(np.isnan(np.array((Teff,logg,met)))):\\n                print(np.array((Teff,logg,met)))\\n                print(\"star nan!\")\\n                print(ID)\\n                pass\\n\\n            else:\\n                for j in range(1,count+1):\\n                    planet = []\\n                    planet.append( ((KOIs[\\'koi_prad\\'][thisSystem_idxs[j-1]]) - rad_mean)/rad_sigma )\\n                    planet.append( ((KOIs[\\'koi_period\\'][thisSystem_idxs[j-1]]) - period_mean)/period_sigma )\\n                    #planet.append( ((KOIs[\\'koi_insol\\'][thisSystem_idxs[j-1]]) - insol_mean)/insol_sigma )\\n\\n                    planet.append( (Teff-Teff_mean)/Teff_sigma )\\n                    planet.append( (logg-logg_mean)/logg_sigma )\\n                    #planet.append( (met-met_mean)/met_sigma )\\n                    if np.any(np.isnan(np.array((planet)))):\\n                        print(planet)\\n                        print(\"planet nan!\")\\n                        print(ID)\\n                        goodSystem = False\\n                        pass\\n                    else:\\n                        system.append((planet))\\n\\n                if goodSystem is True:\\n                    systems.append(system)\\n\\n    print(len(systems))\\n    with open(\"realKOIs_allFeatures_70percent_bootstrap{0}.txt\".format(b), \"wb\") as picklefile:\\n        pickle.dump(systems, picklefile)\\n'"
      ]
     },
     "execution_count": 8,
     "metadata": {},
     "output_type": "execute_result"
    }
   ],
   "source": [
    "\"\"\"\n",
    "idxs = np.arange(len(KOIs['kepid']))\n",
    "kepids = np.array(KOIs['kepid'])\n",
    "unique_kepid = np.unique(np.array(KOIs['kepid']))\n",
    "print(len(unique_kepid))\n",
    "\n",
    "np.random.seed(42)\n",
    "np.random.shuffle(unique_kepid)\n",
    "\n",
    "unique_kepid_70 = unique_kepid[:int(0.7*len(unique_kepid))]\n",
    "#unique_kepid_30 = unique_kepid[int(0.7*len(unique_kepid)):]\n",
    "\n",
    "print(len(unique_kepid_70))\n",
    "\n",
    "\n",
    "print(\"means:\")\n",
    "#print(rad_mean,period_mean,insol_mean,Teff_mean,logg_mean,met_mean)\n",
    "print(rad_mean,period_mean,Teff_mean,logg_mean)\n",
    "print(\"sigmas:\")\n",
    "#print(rad_sigma,period_sigma,insol_sigma,Teff_sigma,logg_sigma,met_sigma)\n",
    "print(rad_sigma,period_sigma,Teff_sigma,logg_sigma)\n",
    "\n",
    "for b in range(100):\n",
    "    systems = []\n",
    "\n",
    "    bootstrapped_kepid_70 = np.random.choice(unique_kepid_70,size=len(unique_kepid_70),replace=True)\n",
    "\n",
    "    for ID in bootstrapped_kepid_70:\n",
    "        goodSystem = True\n",
    "        system = []\n",
    "        thisSystem_mask = (kepids == ID)\n",
    "        thisSystem_idxs = idxs[thisSystem_mask]\n",
    "\n",
    "        #singles only\n",
    "        #if len(thisSystem_idxs) > 1:\n",
    "        #all systems\n",
    "        if True:\n",
    "            kepNames = KOIs['kepoi_name'][thisSystem_idxs]\n",
    "            Ps = KOIs['koi_period'][thisSystem_idxs]\n",
    "            #sort KOIs from inner to outer\n",
    "            sort = np.argsort(Ps)\n",
    "            thisSystem_idxs = thisSystem_idxs[sort]\n",
    "\n",
    "            count = KOIs['koi_count'][thisSystem_idxs[0]]\n",
    "\n",
    "            Teff = KOIs['koi_steff'][thisSystem_idxs[0]]\n",
    "            logg = KOIs['koi_slogg'][thisSystem_idxs[0]]\n",
    "            met = KOIs['koi_smet'][thisSystem_idxs[0]]\n",
    "\n",
    "            if np.any(np.isnan(np.array((Teff,logg,met)))):\n",
    "                print(np.array((Teff,logg,met)))\n",
    "                print(\"star nan!\")\n",
    "                print(ID)\n",
    "                pass\n",
    "\n",
    "            else:\n",
    "                for j in range(1,count+1):\n",
    "                    planet = []\n",
    "                    planet.append( ((KOIs['koi_prad'][thisSystem_idxs[j-1]]) - rad_mean)/rad_sigma )\n",
    "                    planet.append( ((KOIs['koi_period'][thisSystem_idxs[j-1]]) - period_mean)/period_sigma )\n",
    "                    #planet.append( ((KOIs['koi_insol'][thisSystem_idxs[j-1]]) - insol_mean)/insol_sigma )\n",
    "\n",
    "                    planet.append( (Teff-Teff_mean)/Teff_sigma )\n",
    "                    planet.append( (logg-logg_mean)/logg_sigma )\n",
    "                    #planet.append( (met-met_mean)/met_sigma )\n",
    "                    if np.any(np.isnan(np.array((planet)))):\n",
    "                        print(planet)\n",
    "                        print(\"planet nan!\")\n",
    "                        print(ID)\n",
    "                        goodSystem = False\n",
    "                        pass\n",
    "                    else:\n",
    "                        system.append((planet))\n",
    "\n",
    "                if goodSystem is True:\n",
    "                    systems.append(system)\n",
    "\n",
    "    print(len(systems))\n",
    "    with open(\"realKOIs_allFeatures_70percent_bootstrap{0}.txt\".format(b), \"wb\") as picklefile:\n",
    "        pickle.dump(systems, picklefile)\n",
    "\"\"\""
   ]
  },
  {
   "cell_type": "code",
   "execution_count": 9,
   "metadata": {},
   "outputs": [
    {
     "name": "stdout",
     "output_type": "stream",
     "text": [
      "3512\n"
     ]
    }
   ],
   "source": [
    "print(2079 + 2*384 + 3*129 + 4*44 + 5*18 + 6*2)"
   ]
  },
  {
   "cell_type": "code",
   "execution_count": 10,
   "metadata": {},
   "outputs": [
    {
     "name": "stdout",
     "output_type": "stream",
     "text": [
      "2656\n"
     ]
    }
   ],
   "source": [
    "print(2079+384+129+44+18+2)"
   ]
  },
  {
   "cell_type": "code",
   "execution_count": null,
   "metadata": {},
   "outputs": [],
   "source": []
  }
 ],
 "metadata": {
  "kernelspec": {
   "display_name": "Python 2",
   "language": "python",
   "name": "python2"
  },
  "language_info": {
   "codemirror_mode": {
    "name": "ipython",
    "version": 3
   },
   "file_extension": ".py",
   "mimetype": "text/x-python",
   "name": "python",
   "nbconvert_exporter": "python",
   "pygments_lexer": "ipython3",
   "version": "3.7.3"
  }
 },
 "nbformat": 4,
 "nbformat_minor": 2
}
