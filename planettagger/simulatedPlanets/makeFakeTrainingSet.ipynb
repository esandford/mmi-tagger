{
 "cells": [
  {
   "cell_type": "code",
   "execution_count": 106,
   "metadata": {},
   "outputs": [],
   "source": [
    "from __future__ import (absolute_import, division, print_function,\n",
    "                        unicode_literals)\n",
    "import numpy as np\n",
    "import matplotlib as mpl\n",
    "import matplotlib.pyplot as plt\n",
    "import corner\n",
    "import copy\n",
    "import pickle\n",
    "import mr_forecast as mr\n",
    "import time\n",
    "\n",
    "from scipy.stats import truncnorm, powerlaw, beta, zipf, norm\n",
    "from scipy.integrate import quad\n",
    "\n",
    "%matplotlib inline\n",
    "\n",
    "#%matplotlib notebook"
   ]
  },
  {
   "cell_type": "markdown",
   "metadata": {},
   "source": [
    "## For this fake catalog, will need:\n",
    "* Reasonable sets of stellar properties (Teff, logg, [Fe/H]) --- draw from Kepler target stars\n",
    "* Distribution of multiplicities --- Zipfian, with parameters from our paper.\n",
    "* Distribution of planet periods --- log-uniform. Check for Hill stability with each planet draw.\n",
    "* Distribution of planet radii --- double-sided power law. Preference for size ordering could be enforced in the next iteration with David's mass budget idea.\n",
    "\n",
    "## The \"true\" fake catalog will follow the above rules. The \"false\" fake catalog will not (or...(later down the line) use the real KOIs as the \"fake\" catalog?)\n",
    "\n",
    "### \"Wrong\" fake catalog options:\n",
    "* draw planet periods from uniform distribution\n",
    "* draw planet radii from log-uniform distribution"
   ]
  },
  {
   "cell_type": "markdown",
   "metadata": {},
   "source": [
    "### Necessary transforms: log-uniform, Zipfian, DSPL (among others)."
   ]
  },
  {
   "cell_type": "code",
   "execution_count": 4,
   "metadata": {},
   "outputs": [],
   "source": [
    "def transform_uniform(x,a,b):\n",
    "    return a + (b-a)*x\n",
    "\n",
    "def transform_loguniform(x,a,b):\n",
    "    la=np.log(a)\n",
    "    lb=np.log(b)\n",
    "    return np.exp(la + x*(lb-la))\n",
    "\n",
    "def transform_normal(x,mu,sigma):\n",
    "    return norm.ppf(x,loc=mu,scale=sigma)\n",
    "\n",
    "def transform_beta(x,a,b):\n",
    "    return beta.ppf(x,a,b)\n",
    "\n",
    "def transform_truncated_normal(x,mu,sigma,a=0.,b=1.):\n",
    "    ar, br = (a - mu) / sigma, (b - mu) / sigma\n",
    "    return truncnorm.ppf(x,ar,br,loc=mu,scale=sigma)\n",
    "\n",
    "def transform_powerlaw(x,a):\n",
    "    return powerlaw.ppf(x,a+1)\n",
    "\n",
    "def transform_zipfian(x,beta):\n",
    "    #return powerlaw.ppf(x,-1-beta)\n",
    "    return zipf.ppf(x,beta+1)"
   ]
  },
  {
   "cell_type": "code",
   "execution_count": 5,
   "metadata": {},
   "outputs": [],
   "source": [
    "def smallplanet_prob(a_small, a_big, logRmin, logRcrit, logRmax):\n",
    "    \n",
    "    denom = -logRmin*(1.0+a_big) + logRcrit*(a_big-a_small) + logRmax*(1.0+a_small)\n",
    "    \n",
    "    sp_prob = ( (logRcrit-logRmin)*(1.0+a_big) )/denom\n",
    " \n",
    "    return sp_prob\n",
    "\n",
    "\n",
    "def random_smallplanet(a_small, logRmin, logRcrit):\n",
    "    z = np.random.uniform()\n",
    "    \n",
    "    random_smallR = z*(logRcrit - logRmin)**(1.0+a_small)\n",
    "    random_smallR = logRmin + random_smallR**( 1.0/(1.0+a_small) )\n",
    "\n",
    "    return random_smallR\n",
    "\n",
    "\n",
    "def random_bigplanet(a_big, logRcrit, logRmax):\n",
    "    z = np.random.uniform()\n",
    "    \n",
    "    random_bigR = (1.0-z)**( 1.0/(1.0+a_big) )\n",
    "    random_bigR = logRmax - random_bigR*(logRmax - logRcrit)\n",
    "    \n",
    "    return random_bigR\n",
    "\n",
    "\n",
    "\n",
    "def random_planetrad(x,a_small,a_big,logRmin,logRcrit,logRmax):\n",
    "    \"\"\"\n",
    "    return a random planet radius from a double-sided power law distribution\n",
    "    \"\"\"\n",
    "    p_threshold = smallplanet_prob(a_small,a_big,logRmin,logRcrit,logRmax)\n",
    "\n",
    "    if x < p_threshold:\n",
    "        return random_smallplanet(a_small, logRmin, logRcrit)\n",
    "    else:\n",
    "        return random_bigplanet(a_big, logRcrit, logRmax)"
   ]
  },
  {
   "cell_type": "markdown",
   "metadata": {},
   "source": [
    "#### Test log-uniform distribution."
   ]
  },
  {
   "cell_type": "code",
   "execution_count": 6,
   "metadata": {},
   "outputs": [
    {
     "name": "stderr",
     "output_type": "stream",
     "text": [
      "/Users/Emily/anaconda3/lib/python3.7/site-packages/ipykernel/__main__.py:11: MatplotlibDeprecationWarning: \n",
      "The 'normed' kwarg was deprecated in Matplotlib 2.1 and will be removed in 3.1. Use 'density' instead.\n"
     ]
    },
    {
     "data": {
      "image/png": "[encoded data removed]",
      "text/plain": [
       "<Figure size 432x288 with 1 Axes>"
      ]
     },
     "metadata": {
      "needs_background": "light"
     },
     "output_type": "display_data"
    },
    {
     "name": "stderr",
     "output_type": "stream",
     "text": [
      "/Users/Emily/anaconda3/lib/python3.7/site-packages/ipykernel/__main__.py:17: MatplotlibDeprecationWarning: \n",
      "The 'normed' kwarg was deprecated in Matplotlib 2.1 and will be removed in 3.1. Use 'density' instead.\n"
     ]
    },
    {
     "data": {
      "image/png": "[encoded data removed]",
      "text/plain": [
       "<Figure size 432x288 with 1 Axes>"
      ]
     },
     "metadata": {
      "needs_background": "light"
     },
     "output_type": "display_data"
    },
    {
     "name": "stdout",
     "output_type": "stream",
     "text": [
      "1.0\n"
     ]
    }
   ],
   "source": [
    "Pmin = 0.1 #days\n",
    "Pmax = 1000. #days\n",
    "\n",
    "random_periods = np.zeros((1000000))\n",
    "\n",
    "for i in range(len(random_periods)):\n",
    "    x = np.random.uniform()\n",
    "    random_periods[i] = transform_loguniform(x,Pmin,Pmax)\n",
    "\n",
    "fig = plt.figure(figsize=(6,4))\n",
    "n,bins,patches = plt.hist(random_periods,normed=True,bins=50,color='b',alpha=0.5)\n",
    "plt.xlabel(\"Period [days]\")\n",
    "plt.ylabel(\"Probability\")\n",
    "plt.show()\n",
    "\n",
    "fig = plt.figure(figsize=(6,4))\n",
    "n,bins,patches = plt.hist(np.log10(random_periods),normed=True,bins=50,color='b',alpha=0.5)\n",
    "plt.xlabel(\"log(Period) [days]\")\n",
    "plt.ylabel(\"Probability\")\n",
    "plt.show()\n",
    "\n",
    "#check normalization\n",
    "binwidths = bins[1:]-bins[0:-1]\n",
    "print(np.sum(n*binwidths))"
   ]
  },
  {
   "cell_type": "markdown",
   "metadata": {},
   "source": [
    "#### Test Zipfian distribution."
   ]
  },
  {
   "cell_type": "code",
   "execution_count": 7,
   "metadata": {},
   "outputs": [],
   "source": [
    "def zipf_cdf(beta_zipf,m_max):\n",
    "    \n",
    "    pdf = np.zeros(m_max)\n",
    "    for i in range(1,m_max+1):\n",
    "        pdf[i-1] = i**(-beta_zipf-1)\n",
    "        \n",
    "    norm = np.sum(pdf)\n",
    "    \n",
    "    pdf = pdf/norm\n",
    "    \n",
    "    cdf = np.zeros(m_max)\n",
    "    \n",
    "    cdf[0] = pdf[0]\n",
    "    \n",
    "    for i in range(2,m_max+1):\n",
    "        cdf[i-1] = cdf[i-2] + pdf[i-1]\n",
    "        \n",
    "    return cdf\n",
    "\n",
    "def transform_zipf(x, beta_zipf, m_max):\n",
    "    cdf = zipf_cdf(beta_zipf, m_max)\n",
    "    for i in range(0,m_max):\n",
    "        if (x < cdf[i]):\n",
    "            return i+1"
   ]
  },
  {
   "cell_type": "code",
   "execution_count": 8,
   "metadata": {},
   "outputs": [
    {
     "name": "stdout",
     "output_type": "stream",
     "text": [
      "10408\n"
     ]
    },
    {
     "name": "stderr",
     "output_type": "stream",
     "text": [
      "/Users/Emily/anaconda3/lib/python3.7/site-packages/ipykernel/__main__.py:13: MatplotlibDeprecationWarning: \n",
      "The 'normed' kwarg was deprecated in Matplotlib 2.1 and will be removed in 3.1. Use 'density' instead.\n"
     ]
    },
    {
     "data": {
      "image/png": "[encoded data removed]",
      "text/plain": [
       "<Figure size 432x288 with 1 Axes>"
      ]
     },
     "metadata": {
      "needs_background": "light"
     },
     "output_type": "display_data"
    },
    {
     "name": "stdout",
     "output_type": "stream",
     "text": [
      "1.0\n"
     ]
    }
   ],
   "source": [
    "beta = 0.74\n",
    "\n",
    "random_mults = np.zeros((1000000))\n",
    "\n",
    "for i in range(len(random_mults)):\n",
    "    x = np.random.uniform()\n",
    "    random_mults[i] = transform_zipf(x,beta_zipf=beta,m_max=10)\n",
    "\n",
    "print(len(random_mults[random_mults==10]))\n",
    "\n",
    "xs = np.arange(1,11,1)\n",
    "fig = plt.figure(figsize=(6,4))\n",
    "n,bins,patches = plt.hist(random_mults,normed=True,range=(1,11),bins=10,color='b',alpha=0.5)\n",
    "plt.plot(xs+0.5, (xs**(-1-beta))*np.max(n),'r.',ms=10)\n",
    "plt.xlabel(\"Multiplicity\")\n",
    "plt.ylabel(\"Probability\")\n",
    "plt.show()\n",
    "\n",
    "\n",
    "#check normalization\n",
    "binwidths = bins[1:]-bins[0:-1]\n",
    "print(np.sum(n*binwidths))"
   ]
  },
  {
   "cell_type": "code",
   "execution_count": 9,
   "metadata": {},
   "outputs": [
    {
     "name": "stdout",
     "output_type": "stream",
     "text": [
      "[ 1.  2.  3.  4.  5.  6.  7.  8.  9. 10.]\n"
     ]
    }
   ],
   "source": [
    "print(np.unique(random_mults))"
   ]
  },
  {
   "cell_type": "markdown",
   "metadata": {},
   "source": [
    "#### Test DSPL transform. \n",
    "Choose some radius distribution parameters and draw a bunch of random planet radii to make sure the distribution looks right.\n"
   ]
  },
  {
   "cell_type": "code",
   "execution_count": 10,
   "metadata": {},
   "outputs": [],
   "source": [
    "logRmin = np.log(0.5) #R_earth\n",
    "logRmax = np.log(32)  #R_earth\n",
    "logRcrit = np.log(2.5) #R_earth\n",
    "a_small = 0.3\n",
    "a_big = 4.9\n",
    "\n",
    "\n",
    "random_radii = np.zeros((1000000))\n",
    "\n",
    "for i in range(len(random_radii)):\n",
    "    x = np.random.uniform()\n",
    "    random_radii[i] = random_planetrad(x,a_small,a_big,logRmin,logRcrit,logRmax)\n"
   ]
  },
  {
   "cell_type": "code",
   "execution_count": 11,
   "metadata": {},
   "outputs": [
    {
     "name": "stderr",
     "output_type": "stream",
     "text": [
      "/Users/Emily/anaconda3/lib/python3.7/site-packages/ipykernel/__main__.py:8: MatplotlibDeprecationWarning: \n",
      "The 'normed' kwarg was deprecated in Matplotlib 2.1 and will be removed in 3.1. Use 'density' instead.\n"
     ]
    },
    {
     "data": {
      "image/png": "[encoded data removed]",
      "text/plain": [
       "<Figure size 432x288 with 1 Axes>"
      ]
     },
     "metadata": {
      "needs_background": "light"
     },
     "output_type": "display_data"
    }
   ],
   "source": [
    "#small_xs = np.linspace(logRmin,logRcrit,100)\n",
    "#small_ys = -0.5*(small_xs - logRmin)**(-1*a_small) + 1.02\n",
    "\n",
    "#big_xs = (np.linspace(logRcrit+1,logRmax,100))\n",
    "#big_ys = 0.6*(big_xs - logRcrit)**(-1*a_big)\n",
    "\n",
    "fig = plt.figure(figsize=(6,4))\n",
    "n,bins,patches = plt.hist(random_radii,normed=True,bins=50,color='b',alpha=0.5)\n",
    "plt.xlabel(\"log(R_p) [R_earth]\")\n",
    "plt.ylabel(\"Probability\")\n",
    "#plt.axvline(logRcrit,color='r',lw=2)\n",
    "plt.axis(\"off\")\n",
    "plt.show()\n",
    "#plt.savefig(\"./DSPL.pdf\",fmt=\"pdf\")"
   ]
  },
  {
   "cell_type": "markdown",
   "metadata": {},
   "source": [
    "## Check for Hill stability"
   ]
  },
  {
   "cell_type": "code",
   "execution_count": 308,
   "metadata": {},
   "outputs": [],
   "source": [
    "def mass_forecast(radius):\n",
    "    \"\"\"\n",
    "    Extremely basic, as-deterministic-as-possible implementation of Jingjing's Forecaster code.\n",
    "    Take a radius, evaluate the mass value from the Forecaster broken power law fit.\n",
    "    The only probabilistic regime high Neptunian - low Stellar.\n",
    "    \n",
    "    R/Rearth = C * (M/Mearth)**S\n",
    "    \n",
    "    log(M/Mearth) = (log(R/Rearth) - logC)/S\n",
    "    Parameters\n",
    "    ---------\n",
    "    radius : float\n",
    "        Planet radius in Rearth\n",
    "    Returns\n",
    "    ---------\n",
    "    mass : float\n",
    "        Planet mass in Mearth\n",
    "    \"\"\"\n",
    "    \n",
    "    # 10**c has units of Rearth. c1 is fit; c2-c4 are derived iteratively, assuming segments meet at transition points.\n",
    "    c1 = 0.003460532109506489 \n",
    "    c2 = -0.09252481979252211\n",
    "    c3 = 1.2489241453022766\n",
    "    c4 = -2.844669555228572\n",
    "    \n",
    "    # power-law indices; unitless\n",
    "    s1 = 0.279\n",
    "    s2 = 0.589\n",
    "    s3 = -0.044\n",
    "    s4 = 0.881\n",
    "    \n",
    "    # transition points, units of log(Mearth)\n",
    "    t1 = 0.3096301674258988 # log10(2.04 Mearth)                        Terran -> Neptunian\n",
    "    t2 = 2.1191926778748793 # log10(0.414 Mjup * 317.828 Mearth/Mjup)   Neptunian -> Jovian\n",
    "    t3 = 4.425506703276593  # log10(0.0800 Msun * 333060.4 Mearth/Msun) Jovian -> Stellar\n",
    "    \n",
    "    # corresponding transition points in units of log(Rearth)\n",
    "    # computed from mr.Mstat2R(transition points above)\n",
    "    t1_r = np.log10(1.25)  # Terran -> Neptunian\n",
    "    t2_r = np.log10(13.86) # Neptunian -> Jovian\n",
    "    t3_r = np.log10(11.59) # Jovian -> Stellar\n",
    "    \n",
    "    \n",
    "    logR = np.log10(radius)\n",
    "    \n",
    "    if logR <= t1_r: #unambiguously Terran\n",
    "        logM = (logR - c1)/s1\n",
    "        \n",
    "    elif logR <= t3_r: #unambiguously Neptunian\n",
    "        logM = (logR - c2)/s2\n",
    "    \n",
    "    elif logR > t2_r: #unambiguously stellar\n",
    "        logM = (logR - c4)/s4\n",
    "        \n",
    "    else: # could be Neptunian, could be Jovian, could be stellar\n",
    "        # based on monte carlo tests from Jingjing's code,\n",
    "        # the breakdown of neptunians vs. jovians vs. stellars\n",
    "        # in this radius range is:\n",
    "        frac_neptunian = 0.08842\n",
    "        frac_jovian = 0.839126\n",
    "        frac_stellar = 0.072454\n",
    "        rando = np.random.uniform(0,1.)\n",
    "        \n",
    "        if rando <= frac_neptunian: #Neptunian\n",
    "            logM = (logR - c2)/s2\n",
    "        elif rando <= (frac_neptunian + frac_jovian): #Jovian\n",
    "            logM = (logR - c3)/s3\n",
    "        else: #stellar\n",
    "            logM = (logR - c4)/s4\n",
    "            \n",
    "    return 10.**logM #Earth masses\n"
   ]
  },
  {
   "cell_type": "code",
   "execution_count": 309,
   "metadata": {},
   "outputs": [
    {
     "data": {
      "text/plain": [
       "'\\ndef mass_forecast_jc(radius, sigma_radius):\\n    \"\"\"\\n    Use Jingjing\\'s code.\\n    \\n    Parameters\\n    ---------\\n    radius : float\\n        Radius in Rearth\\n    sigma_radius : float\\n        Radius uncertainty in Rearth\\n    \\n    Returns\\n    ---------\\n    mass : float\\n        Median predicted mass in Mearth\\n    \"\"\"\\n    \\n    mass, massplus, massminus = mr.Rstat2M(radius, sigma_radius, unit=\\'Earth\\', sample_size=1000, grid_size=1000)\\n    \\n    return mass, massplus, massminus\\n'"
      ]
     },
     "execution_count": 309,
     "metadata": {},
     "output_type": "execute_result"
    }
   ],
   "source": [
    "'''\n",
    "def mass_forecast_jc(radius, sigma_radius):\n",
    "    \"\"\"\n",
    "    Use Jingjing's code.\n",
    "    \n",
    "    Parameters\n",
    "    ---------\n",
    "    radius : float\n",
    "        Radius in Rearth\n",
    "    sigma_radius : float\n",
    "        Radius uncertainty in Rearth\n",
    "    \n",
    "    Returns\n",
    "    ---------\n",
    "    mass : float\n",
    "        Median predicted mass in Mearth\n",
    "    \"\"\"\n",
    "    \n",
    "    mass, massplus, massminus = mr.Rstat2M(radius, sigma_radius, unit='Earth', sample_size=1000, grid_size=1000)\n",
    "    \n",
    "    return mass, massplus, massminus\n",
    "'''"
   ]
  },
  {
   "cell_type": "code",
   "execution_count": 310,
   "metadata": {},
   "outputs": [
    {
     "data": {
      "text/plain": [
       "'\\nt0 = time.time()\\nmasses = np.zeros((1))\\nmasses = np.atleast_2d(masses)\\nsample_size=100\\n\\nfor i in range(5000):\\n    if i%500==0:\\n        print(i)\\n    randomRadius = np.random.uniform(11.59,13.86)\\n    randomRadius = truncnorm.rvs( (0.-randomRadius)/0.001, np.inf, loc=randomRadius, scale=0.001, size=int(sample_size))\\n    randomRadius = randomRadius[(randomRadius > 0.1) & (randomRadius < 100.)]\\n    m_arr = mr.Rpost2M(randomRadius, unit=\\'Earth\\', classify = \\'No\\')\\n    m_arr = np.atleast_2d(m_arr)\\n\\n    masses = np.vstack((masses,m_arr.T))\\n\\nt1 = time.time()\\n\\nt = t1-t0\\nprint(t/60.)\\n\\nmasses = masses[np.isfinite(masses)]\\nmasses = masses[masses > 0.]\\nprint(np.min(masses))\\nprint(np.max(masses))\\n\\nfig, axes = plt.subplots(1,2,figsize=(10,5))\\naxes[0].hist(masses, color=\\'b\\',alpha=0.5)\\naxes[0].set_xlabel(\"Mass [Mearth]\")\\naxes[1].hist(np.log10(masses), color=\\'r\\',alpha=0.5)\\naxes[1].set_xlabel(\"log10(Mass [Mearth])\")\\nplt.show()\\n\\nfrac_neptunian = len(masses[np.log10(masses) <= 2.1191926778748793])/len(masses)\\nfrac_jovian = len(masses[(np.log10(masses) > 2.1191926778748793) & (np.log10(masses) <= 4.425506703276593)])/len(masses)\\nfrac_stellar = len(masses[np.log10(masses) > 4.425506703276593])/len(masses)\\n\\nprint(frac_neptunian)\\nprint(frac_jovian)\\nprint(frac_stellar)\\n\\nprint(frac_neptunian + frac_jovian + frac_stellar)\\n'"
      ]
     },
     "execution_count": 310,
     "metadata": {},
     "output_type": "execute_result"
    }
   ],
   "source": [
    "\"\"\"\n",
    "t0 = time.time()\n",
    "masses = np.zeros((1))\n",
    "masses = np.atleast_2d(masses)\n",
    "sample_size=100\n",
    "\n",
    "for i in range(5000):\n",
    "    if i%500==0:\n",
    "        print(i)\n",
    "    randomRadius = np.random.uniform(11.59,13.86)\n",
    "    randomRadius = truncnorm.rvs( (0.-randomRadius)/0.001, np.inf, loc=randomRadius, scale=0.001, size=int(sample_size))\n",
    "    randomRadius = randomRadius[(randomRadius > 0.1) & (randomRadius < 100.)]\n",
    "    m_arr = mr.Rpost2M(randomRadius, unit='Earth', classify = 'No')\n",
    "    m_arr = np.atleast_2d(m_arr)\n",
    "\n",
    "    masses = np.vstack((masses,m_arr.T))\n",
    "\n",
    "t1 = time.time()\n",
    "\n",
    "t = t1-t0\n",
    "print(t/60.)\n",
    "\n",
    "masses = masses[np.isfinite(masses)]\n",
    "masses = masses[masses > 0.]\n",
    "print(np.min(masses))\n",
    "print(np.max(masses))\n",
    "\n",
    "fig, axes = plt.subplots(1,2,figsize=(10,5))\n",
    "axes[0].hist(masses, color='b',alpha=0.5)\n",
    "axes[0].set_xlabel(\"Mass [Mearth]\")\n",
    "axes[1].hist(np.log10(masses), color='r',alpha=0.5)\n",
    "axes[1].set_xlabel(\"log10(Mass [Mearth])\")\n",
    "plt.show()\n",
    "\n",
    "frac_neptunian = len(masses[np.log10(masses) <= 2.1191926778748793])/len(masses)\n",
    "frac_jovian = len(masses[(np.log10(masses) > 2.1191926778748793) & (np.log10(masses) <= 4.425506703276593)])/len(masses)\n",
    "frac_stellar = len(masses[np.log10(masses) > 4.425506703276593])/len(masses)\n",
    "\n",
    "print(frac_neptunian)\n",
    "print(frac_jovian)\n",
    "print(frac_stellar)\n",
    "\n",
    "print(frac_neptunian + frac_jovian + frac_stellar)\n",
    "\"\"\""
   ]
  },
  {
   "cell_type": "code",
   "execution_count": 311,
   "metadata": {},
   "outputs": [],
   "source": [
    "def delta_Hill(Mstar,radius1,radius2,period1,period2):\n",
    "    \"\"\"\n",
    "    Parameters\n",
    "    ---------\n",
    "    Mstar : float\n",
    "        Solar masses\n",
    "    radius1 : float\n",
    "        Earth radii\n",
    "    radius2 : float\n",
    "        Earth radii\n",
    "    period1 : float\n",
    "        Days\n",
    "    period2 : float\n",
    "        Days\n",
    "    \"\"\"\n",
    "    \n",
    "    mass1 = mass_forecast(radius1)\n",
    "    mass2 = mass_forecast(radius2)\n",
    "    \n",
    "    mass_star = Mstar*332978.9015405224 #convert solar masses to Earth masses\n",
    "\n",
    "    ratio = 2.8844991406148166/( (mass1+mass2)/mass_star )**(1./3.)\n",
    "    \n",
    "    \n",
    "    periodx_inner = (np.min((period1,period2)))**(2./3.)\n",
    "    periodx_outer = (np.max((period1,period2)))**(2./3.)\n",
    "    \n",
    "    dH = ratio*( (periodx_outer-periodx_inner)/(periodx_outer+periodx_inner) )\n",
    "    \n",
    "    return dH"
   ]
  },
  {
   "cell_type": "code",
   "execution_count": 312,
   "metadata": {},
   "outputs": [],
   "source": [
    "def hill_stability(mstar,nplanets,radii,periods):\n",
    "    \"\"\"\n",
    "    Parameters\n",
    "    ---------\n",
    "    mstar : float\n",
    "        Stellar mass in solar masses\n",
    "    nplanets : int\n",
    "        Number of planets in system\n",
    "    radii : np.array \n",
    "        Array of planet radii in *Earth* radii\n",
    "    periods : np.array\n",
    "        Array of planet periods in days\n",
    "    \n",
    "    Returns\n",
    "    ---------\n",
    "    True if stable, False if not\n",
    "    \"\"\"\n",
    "    \n",
    "    if nplanets == 1: #only one planet---always stable\n",
    "        return True\n",
    "    \n",
    "    elif nplanets == 2:\n",
    "        if delta_Hill(mstar, radii[0], radii[1], periods[0], periods[1]) > 3.4641016151377544:\n",
    "            return True\n",
    "        \n",
    "    else:\n",
    "        #assume stable until proven otherwises\n",
    "        \n",
    "        #test 1: go through pairs, from eq 8 of 2014ApJ...790..146F\n",
    "        \n",
    "        for i in range(0,nplanets-1):\n",
    "            if delta_Hill(mstar, radii[i], radii[i+1], periods[i], periods[i+1]) <= 3.4641016151377544:\n",
    "                return False\n",
    "        \n",
    "        #test 2: go through triples, from eq 9 of 2014ApJ...790..146F\n",
    "        for i in range(0, nplanets-2):\n",
    "            if (delta_Hill(mstar, radii[i], radii[i+1], periods[i], periods[i+1]) + \n",
    "                delta_Hill(mstar, radii[i+1], radii[i+2], periods[i+1], periods[i+2])) <= 18.:\n",
    "                return False\n",
    "        \n",
    "        return True"
   ]
  },
  {
   "cell_type": "code",
   "execution_count": 313,
   "metadata": {},
   "outputs": [
    {
     "data": {
      "image/png": "[encoded data removed]",
      "text/plain": [
       "<Figure size 576x432 with 1 Axes>"
      ]
     },
     "metadata": {
      "needs_background": "light"
     },
     "output_type": "display_data"
    },
    {
     "data": {
      "image/png": "[encoded data removed]",
      "text/plain": [
       "<Figure size 576x432 with 1 Axes>"
      ]
     },
     "metadata": {
      "needs_background": "light"
     },
     "output_type": "display_data"
    }
   ],
   "source": [
    "#radii = np.concatenate((np.linspace(-1.5,2.5,1000), np.linspace(1.,1.4,1000)))\n",
    "radii = np.linspace(-1.5,2.5,5000)\n",
    "radii = np.sort(radii)\n",
    "radii = 10.**radii\n",
    "\n",
    "masses = np.zeros_like(radii)\n",
    "masses_up = np.zeros_like(radii)\n",
    "masses_down = np.zeros_like(radii)\n",
    "for i,r in enumerate(radii):\n",
    "    masses[i] = mass_forecast(r)\n",
    "\n",
    "fig = plt.figure(figsize=(8,6))\n",
    "plt.plot(masses,radii,color='k',marker='.',ls='None',ms=1,alpha=0.25)\n",
    "plt.axvline(10**0.3096301674258988,color='r')\n",
    "plt.axvline(10**2.1191926778748793,color='r')\n",
    "plt.axvline(10**4.425506703276593,color='r')\n",
    "plt.xlabel('mass',fontsize=20)\n",
    "plt.ylabel('radius',fontsize=20)\n",
    "plt.loglog()\n",
    "plt.show()\n",
    "\n",
    "fig = plt.figure(figsize=(8,6))\n",
    "plt.plot(radii,masses,color='k',marker='.',ls='None',ms=1,alpha=0.25)\n",
    "plt.axhline(10**0.3096301674258988,color='r')\n",
    "plt.axhline(10**2.1191926778748793,color='r')\n",
    "plt.axhline(10**4.425506703276593,color='r')\n",
    "plt.xlabel('radius',fontsize=20)\n",
    "plt.ylabel('mass',fontsize=20)\n",
    "plt.loglog()\n",
    "plt.show()\n"
   ]
  },
  {
   "cell_type": "markdown",
   "metadata": {},
   "source": [
    "# Make fakes!"
   ]
  },
  {
   "cell_type": "code",
   "execution_count": 314,
   "metadata": {},
   "outputs": [
    {
     "name": "stdout",
     "output_type": "stream",
     "text": [
      "(197097, 5)\n",
      "(197096, 5)\n",
      "(177906, 5)\n",
      "(177209, 5)\n",
      "(177141, 5)\n",
      "(177047, 5)\n"
     ]
    }
   ],
   "source": [
    "#columns: Teff, logg, [Fe/H], mass, radius\n",
    "kepStellar = np.genfromtxt(\"../../../../kepStellar.csv\",delimiter=',')\n",
    "print(np.shape(kepStellar))\n",
    "\n",
    "#remove nans\n",
    "nonans = (np.isfinite(kepStellar[:,0]) & \n",
    "          np.isfinite(kepStellar[:,1]) & \n",
    "          np.isfinite(kepStellar[:,2]) & \n",
    "          np.isfinite(kepStellar[:,3]) & \n",
    "          np.isfinite(kepStellar[:,4]))\n",
    "kepStellar = kepStellar[nonans]\n",
    "print(np.shape(kepStellar))\n",
    "\n",
    "#select only dwarfs\n",
    "kepStellar = kepStellar[(kepStellar[:,1] > 3.) & (kepStellar[:,1] < 5.3)]\n",
    "print(np.shape(kepStellar))\n",
    "\n",
    "#select only FGK\n",
    "kepStellar = kepStellar[(kepStellar[:,0] > 3200.) & (kepStellar[:,0] < 9600.)]\n",
    "print(np.shape(kepStellar))\n",
    "\n",
    "#metallicity cut? nah\n",
    "#print(np.min(kepStellar[:,2]))\n",
    "#print(np.max(kepStellar[:,2]))\n",
    "\n",
    "#mass cut\n",
    "kepStellar = kepStellar[(kepStellar[:,3] > 0.13) & (kepStellar[:,3] < 2.7)]\n",
    "print(np.shape(kepStellar))\n",
    "\n",
    "#radius cut\n",
    "kepStellar = kepStellar[(kepStellar[:,4] > 0.14) & (kepStellar[:,4] < 7.4)]\n",
    "print(np.shape(kepStellar))\n"
   ]
  },
  {
   "cell_type": "code",
   "execution_count": 323,
   "metadata": {},
   "outputs": [],
   "source": [
    "#deterministic Rp\n",
    "#def grammaticalSystems(nsystems,\n",
    "#                       multmodel='zipf',\n",
    "#                       beta_zipf=0.74,m_max=3,\n",
    "#                       Pmodel='loguniform',Pmin=0.25,Pmax=500.,\n",
    "#                       R_A=0.01, sigmaR_A = 0.0005, #solar radii\n",
    "#                       R_B=0.05, sigmaR_B = 0.0005,\n",
    "#                       R_C=0.1, sigmaR_C = 0.0005):\n",
    "\n",
    "#distinct Rp\n",
    "#def grammaticalSystems(nsystems,\n",
    "#                       multmodel='zipf',\n",
    "#                       beta_zipf=0.74,m_max=10,\n",
    "#                       Pmodel='loguniform',Pmin=0.25,Pmax=500.,\n",
    "#                       R_A=0.01, sigmaR_A = 0.0005, #solar radii\n",
    "#                       R_B=0.05, sigmaR_B = 0.0005,\n",
    "#                       R_C=0.1, sigmaR_C = 0.0005):\n",
    "\n",
    "#overlapping Rp\n",
    "def grammaticalSystems(nsystems,\n",
    "                       multmodel='zipf',\n",
    "                       beta_zipf=0.74,m_max=10,\n",
    "                       Pmodel='uniform',Pmin=0.25,Pmax=500.,\n",
    "                       R_A=0.01, sigmaR_A = 0.005, #solar radii\n",
    "                       R_B=0.05, sigmaR_B = 0.005,\n",
    "                       R_C=0.1, sigmaR_C = 0.005):\n",
    "\n",
    "\n",
    "    \"\"\"\n",
    "    Make \"nsystems\" fake planetary systems. \n",
    "    \n",
    "    Grammatical rules:\n",
    "    \n",
    "    1. \"A\" ~= \"article\"; \"B\" ~= \"noun\" or \"adjective\"; \"C\" ~= \"verb\". By analogy, \"A\" = \"the\"; a \"B\" sequence could \n",
    "    be something like, \"Doggish doggish ratty cat\" or \"Horsey jellyfish\" or \"Giraffey capybara\"; \"C\" could be \"chased\"\n",
    "    or \"ate\" or \"sang\" (i.e. transitive or intransitive verb). Sentences could be e.g. \"A B B C A B\" = \"The cowy flamingo\n",
    "    ate the shrimp\" or \"A B B B B C\" = \"The birdy doggy catty fish called.\"\n",
    "    2. A \"B\" sequence must be preceded by an \"A\".\n",
    "    3. The subject of a \"C\" verb is an \"A B ... B\" sequence.\n",
    "    \n",
    "    \n",
    "    2-planet system: A B only\n",
    "    3-planet system: A B C only\n",
    "    4-planet system: A B B C only\n",
    "    5-planet system: A B B B C or \n",
    "                     A B C A B\n",
    "    6-planet system: A B B B B C or \n",
    "                     A B C A B B or \n",
    "                     A B B C A B\n",
    "    7-planet system: A B B B B B C or\n",
    "                     A B C A B B B or\n",
    "                     A B B B C A B\n",
    "    etc for 8, 9, 10---only three possibilities per.\n",
    "    \"\"\"\n",
    "    systems = []\n",
    "    systemsTrueClasses = []\n",
    "    multiplicities = np.zeros((nsystems))\n",
    "    allradii = []\n",
    "    allperiods = []\n",
    "    alltruths = []\n",
    "    for i in range(nsystems):\n",
    "        #print(\"system {0}\".format(i))\n",
    "        system = []\n",
    "        systemTrueClasses = []\n",
    "        #random stellar properties\n",
    "        random_star = kepStellar[np.random.randint(0,len(kepStellar))]\n",
    "        \n",
    "        mult = 0\n",
    "        \n",
    "        while mult < 1:\n",
    "            #random multiplicity\n",
    "            if multmodel == 'zipf':\n",
    "                mult = transform_zipf(np.random.uniform(),beta_zipf,m_max)\n",
    "            elif multmodel == 'uniform':\n",
    "                mult = np.random.choice(np.arange(1,m_max+1))\n",
    "        \n",
    "        #print(\"mult is {0}\".format(mult))\n",
    "        multiplicities[i] = mult\n",
    "\n",
    "        stable = False\n",
    "        \n",
    "        stability_check_count = 0\n",
    "        while stable is False:\n",
    "            #for each planet, draw a period and a radius\n",
    "            periods = np.zeros((mult))\n",
    "            radii = np.zeros((mult))\n",
    "            truths = np.zeros((mult))\n",
    "            \n",
    "            for j in range(0,mult):\n",
    "                if Pmodel==\"loguniform\":\n",
    "                    periods[j] = transform_loguniform(np.random.uniform(),Pmin,Pmax)\n",
    "                elif Pmodel==\"uniform\":\n",
    "                    periods[j] = transform_uniform(np.random.uniform(),Pmin,Pmax)\n",
    "            #sort periods in increasing order\n",
    "            periods = np.sort(periods)\n",
    "            \n",
    "            if mult <= 4:\n",
    "                #populate all radii with B\n",
    "                for j in range(0,mult):\n",
    "                    radii[j] = np.abs(transform_normal(np.random.uniform(),mu=R_B,sigma=sigmaR_B))\n",
    "                    truths[j] = 1.\n",
    "                #replace 0th radius with A\n",
    "                radii[0] = np.abs(transform_normal(np.random.uniform(),mu=R_A,sigma=sigmaR_A))\n",
    "                truths[0] = 0.\n",
    "                #replace last radius with C\n",
    "                radii[-1] = np.abs(transform_normal(np.random.uniform(),mu=R_C,sigma=sigmaR_C))\n",
    "                truths[-1] = 2.\n",
    "            elif mult==5:\n",
    "                rando = np.random.randint(low=0,high=2,size=1)\n",
    "                \n",
    "                #populate all radii with B\n",
    "                for j in range(0,mult):\n",
    "                    radii[j] = np.abs(transform_normal(np.random.uniform(),mu=R_B,sigma=sigmaR_B))\n",
    "                    truths[j] = 1.\n",
    "                \n",
    "                #replace 0th radius with A\n",
    "                radii[0] = np.abs(transform_normal(np.random.uniform(),mu=R_A,sigma=sigmaR_A))\n",
    "                truths[0] = 0.\n",
    "                \n",
    "                if rando == 0:\n",
    "                    #replace last radius with C\n",
    "                    radii[-1] = np.abs(transform_normal(np.random.uniform(),mu=R_C,sigma=sigmaR_C))\n",
    "                    truths[-1] = 2.\n",
    "                else:\n",
    "                    #replace 2th radius with C\n",
    "                    radii[2] = np.abs(transform_normal(np.random.uniform(),mu=R_C,sigma=sigmaR_C))\n",
    "                    truths[2] = 2.\n",
    "                    #replace 3th radius with A\n",
    "                    radii[3] = np.abs(transform_normal(np.random.uniform(),mu=R_A,sigma=sigmaR_A))\n",
    "                    truths[3] = 0.\n",
    "                    \n",
    "            else:\n",
    "                rando = np.random.randint(low=0,high=3,size=1)\n",
    "                \n",
    "                #populate all radii with B\n",
    "                for j in range(0,mult):\n",
    "                    radii[j] = np.abs(transform_normal(np.random.uniform(),mu=R_B,sigma=sigmaR_B))\n",
    "                    truths[j] = 1.\n",
    "                \n",
    "                #replace 0th radius with A\n",
    "                radii[0] = np.abs(transform_normal(np.random.uniform(),mu=R_A,sigma=sigmaR_A))\n",
    "                truths[0] = 0.\n",
    "                \n",
    "                if rando == 0:\n",
    "                    #replace last radius with C\n",
    "                    radii[-1] = np.abs(transform_normal(np.random.uniform(),mu=R_C,sigma=sigmaR_C))\n",
    "                    truths[-1] = 2.\n",
    "                elif rando == 1:\n",
    "                    #replace 2th radius with C\n",
    "                    radii[2] = np.abs(transform_normal(np.random.uniform(),mu=R_C,sigma=sigmaR_C))\n",
    "                    truths[2] = 2.\n",
    "                    #replace 3th radius with A\n",
    "                    radii[3] = np.abs(transform_normal(np.random.uniform(),mu=R_A,sigma=sigmaR_A) )\n",
    "                    truths[3] = 0.\n",
    "                else:\n",
    "                    #replace -3th radius with C\n",
    "                    radii[-3] = np.abs(transform_normal(np.random.uniform(),mu=R_C,sigma=sigmaR_C))\n",
    "                    truths[-3] = 2.\n",
    "                    #replace -2th radius with A\n",
    "                    radii[-2] = np.abs(transform_normal(np.random.uniform(),mu=R_A,sigma=sigmaR_A))\n",
    "                    truths[-2] = 0.\n",
    "                    \n",
    "            # convert solar to Earth radii for this call\n",
    "            stable = hill_stability(random_star[3], mult, radii*109.2, periods)\n",
    "            stability_check_count+=1\n",
    "            \n",
    "        #print(\"stability check count is {0}\".format(stability_check_count))\n",
    "\n",
    "            \n",
    "        #once a stable system is found:\n",
    "        #[allradii.append(r/random_star[4]) for r in radii]\n",
    "        [allradii.append(r) for r in radii]\n",
    "        [alltruths.append(t) for t in truths]\n",
    "        [allperiods.append(p) for p in periods]\n",
    "        \n",
    "        for j in range(0, mult):\n",
    "            #planet = [radii[j]]\n",
    "            #planet = [radii[j],periods[j]]\n",
    "            #planet = [radii[j],random_star[0]]\n",
    "            planet = [radii[j], periods[j], random_star[0], random_star[1], random_star[2]]\n",
    "            \n",
    "            planetTrueClass = [truths[j]]\n",
    "            system.append(planet)\n",
    "            systemTrueClasses.append(planetTrueClass)\n",
    "        \n",
    "        systems.append(system)\n",
    "        systemsTrueClasses.append(systemTrueClasses)\n",
    "            \n",
    "    return systems,multiplicities,np.array(allradii),np.array(alltruths),systemsTrueClasses,np.array(allperiods)\n",
    "    "
   ]
  },
  {
   "cell_type": "code",
   "execution_count": 324,
   "metadata": {},
   "outputs": [],
   "source": [
    "def featureScale(trainingSet,n_features):\n",
    "    \"\"\"\n",
    "    Scale each feature to have mean=0, stdev = 1\n",
    "    \"\"\"\n",
    "    \n",
    "    stacked = np.zeros((1,n_features))\n",
    "    \n",
    "    for i in range(0,len(trainingSet)):\n",
    "        sys = trainingSet[i]\n",
    "        for j in range(0,len(sys)):\n",
    "            planet = np.array((sys[j]))\n",
    "            stacked = np.vstack((stacked,planet))\n",
    "            \n",
    "    mu = np.mean(stacked,axis=0)\n",
    "    sigma = np.std(stacked,axis=0)\n",
    "    \n",
    "    scaledTrainingSet = []\n",
    "    for i in range(0,len(trainingSet)):\n",
    "        sys = trainingSet[i]\n",
    "        newsys = []\n",
    "        for j in range(0,len(sys)):\n",
    "            planet = np.array(sys[j])\n",
    "            planet = (planet - mu)/sigma\n",
    "            newsys.append(list(planet))\n",
    "            \n",
    "        scaledTrainingSet.append(newsys)\n",
    "    \n",
    "    return scaledTrainingSet\n",
    "            "
   ]
  },
  {
   "cell_type": "code",
   "execution_count": null,
   "metadata": {
    "scrolled": false
   },
   "outputs": [],
   "source": [
    "t0 = time.time()\n",
    "experimentClass = \"trainingSets\"\n",
    "experimentName = \"mult=zipf_P=uniform_Rpsigma=0.005_nsys=10000\"\n",
    "n_features = 5\n",
    "\n",
    "# 100 systems = 4 minutes\n",
    "sys, mult, rad, truths, trueClassesList, pers = grammaticalSystems(nsystems=10000,Pmodel=\"uniform\")\n",
    "\n",
    "np.save(\"./{0}/{1}_truths.npy\".format(experimentClass,experimentName),truths)\n",
    "\n",
    "scaled = featureScale(sys,n_features)\n",
    "\n",
    "with open(\"./{0}/{1}.txt\".format(experimentClass,experimentName), \"wb\") as picklefile:\n",
    "    pickle.dump(scaled, picklefile)\n",
    "\n",
    "with open(\"./{0}/{1}_truthsOrganized.txt\".format(experimentClass,experimentName), \"wb\") as picklefile:\n",
    "    pickle.dump(trueClassesList, picklefile)\n",
    "\n",
    "print(np.shape(truths))\n",
    "\n",
    "t1 = time.time()\n",
    "\n",
    "print(\"10000 systems in {0} minutes\".format((t1 - t0)/60.))"
   ]
  },
  {
   "cell_type": "code",
   "execution_count": null,
   "metadata": {},
   "outputs": [],
   "source": [
    "plt.hist(truths,color='b',range=(0.,2.),bins=10,alpha=0.5)\n",
    "plt.show()"
   ]
  },
  {
   "cell_type": "code",
   "execution_count": null,
   "metadata": {},
   "outputs": [],
   "source": [
    "print(type(sys[0]))\n",
    "print(len(sys[0]))\n",
    "\n",
    "print(type(sys[0][0]))\n",
    "print(len(sys[0][0]))\n",
    "\n",
    "print(mult[0])\n",
    "print(sys[0])\n",
    "print(sys[0][0])"
   ]
  },
  {
   "cell_type": "code",
   "execution_count": null,
   "metadata": {},
   "outputs": [],
   "source": [
    "plt.hist(np.array(rad[truths==0]),normed=True,range=(0,0.2),bins=100,color='b',alpha=0.5)\n",
    "plt.hist(np.array(rad[truths==1]),normed=True,range=(0,0.2),bins=100,color='y',alpha=0.5)\n",
    "plt.hist(np.array(rad[truths==2]),normed=True,range=(0,0.2),bins=100,color='r',alpha=0.5)\n",
    "plt.show()\n",
    "\n",
    "scaledRad = (rad - np.mean(rad))/np.std(rad)\n",
    "plt.hist(np.array(scaledRad[truths==0]),normed=True,range=(-1.5,2.5),bins=100,color='b',alpha=0.5)\n",
    "plt.hist(np.array(scaledRad[truths==1]),normed=True,range=(-1.5,2.5),bins=100,color='y',alpha=0.5)\n",
    "plt.hist(np.array(scaledRad[truths==2]),normed=True,range=(-1.5,2.5),bins=100,color='r',alpha=0.5)\n",
    "plt.show()\n",
    "\n",
    "\n",
    "scaledPer = (pers - np.mean(pers))/np.std(pers)\n",
    "plt.hist(np.array(scaledPer[truths==0]),normed=True,range=(-2.,2.),bins=100,color='b',alpha=0.5)\n",
    "plt.hist(np.array(scaledPer[truths==1]),normed=True,range=(-2.,2.),bins=100,color='y',alpha=0.5)\n",
    "plt.hist(np.array(scaledPer[truths==2]),normed=True,range=(-2.,2.),bins=100,color='r',alpha=0.5)\n",
    "plt.show()\n",
    "\n",
    "print(np.min(scaledPer))\n",
    "print(np.max(scaledPer))\n",
    "print(scaledPer[np.isnan(scaledPer)])"
   ]
  },
  {
   "cell_type": "code",
   "execution_count": null,
   "metadata": {},
   "outputs": [],
   "source": [
    "plt.hist(mult,color='b',range=(2,21),bins=20,alpha=0.5)\n",
    "plt.show()\n",
    "print(np.unique(mult))"
   ]
  },
  {
   "cell_type": "code",
   "execution_count": null,
   "metadata": {},
   "outputs": [],
   "source": [
    "M = len(truths)\n",
    "q0 = len(truths[truths==0])/M\n",
    "q1 = len(truths[truths==1])/M\n",
    "q2 = len(truths[truths==2])/M\n",
    "\n",
    "print(q0)\n",
    "print(q1)\n",
    "print(q2)\n",
    "print(q0+q1+q2)\n",
    "\n",
    "entropy = q0*np.log(q0) +  q1*np.log(q1) +  q2*np.log(q2)\n",
    "\n",
    "print(entropy)"
   ]
  },
  {
   "cell_type": "code",
   "execution_count": null,
   "metadata": {},
   "outputs": [],
   "source": []
  },
  {
   "cell_type": "code",
   "execution_count": null,
   "metadata": {
    "collapsed": true
   },
   "outputs": [],
   "source": []
  },
  {
   "cell_type": "code",
   "execution_count": null,
   "metadata": {
    "collapsed": true
   },
   "outputs": [],
   "source": []
  },
  {
   "cell_type": "code",
   "execution_count": null,
   "metadata": {
    "collapsed": true
   },
   "outputs": [],
   "source": []
  },
  {
   "cell_type": "code",
   "execution_count": null,
   "metadata": {
    "collapsed": true
   },
   "outputs": [],
   "source": []
  }
 ],
 "metadata": {
  "kernelspec": {
   "display_name": "Python 2",
   "language": "python",
   "name": "python2"
  },
  "language_info": {
   "codemirror_mode": {
    "name": "ipython",
    "version": 3
   },
   "file_extension": ".py",
   "mimetype": "text/x-python",
   "name": "python",
   "nbconvert_exporter": "python",
   "pygments_lexer": "ipython3",
   "version": "3.7.3"
  }
 },
 "nbformat": 4,
 "nbformat_minor": 2
}
